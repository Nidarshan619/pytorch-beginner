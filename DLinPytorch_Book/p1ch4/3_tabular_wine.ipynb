{
  "nbformat": 4,
  "nbformat_minor": 0,
  "metadata": {
    "kernelspec": {
      "display_name": "Python 3",
      "language": "python",
      "name": "python3"
    },
    "language_info": {
      "codemirror_mode": {
        "name": "ipython",
        "version": 3
      },
      "file_extension": ".py",
      "mimetype": "text/x-python",
      "name": "python",
      "nbconvert_exporter": "python",
      "pygments_lexer": "ipython3",
      "version": "3.7.6"
    },
    "colab": {
      "name": "3_tabular_wine.ipynb",
      "provenance": [],
      "include_colab_link": true
    }
  },
  "cells": [
    {
      "cell_type": "markdown",
      "metadata": {
        "id": "view-in-github",
        "colab_type": "text"
      },
      "source": [
        "<a href=\"https://colab.research.google.com/github/Nidarshan619/pytorch-beginner/blob/master/DLinPytorch_Book/p1ch4/3_tabular_wine.ipynb\" target=\"_parent\"><img src=\"https://colab.research.google.com/assets/colab-badge.svg\" alt=\"Open In Colab\"/></a>"
      ]
    },
    {
      "cell_type": "code",
      "metadata": {
        "id": "TpQb-xJcGNts",
        "outputId": "90e7a725-3e41-4dc3-a46f-ae71ae37dfbc",
        "colab": {
          "base_uri": "https://localhost:8080/"
        }
      },
      "source": [
        "!git clone https://github.com/deep-learning-with-pytorch/dlwpt-code.git"
      ],
      "execution_count": 11,
      "outputs": [
        {
          "output_type": "stream",
          "text": [
            "fatal: destination path 'dlwpt-code' already exists and is not an empty directory.\n"
          ],
          "name": "stdout"
        }
      ]
    },
    {
      "cell_type": "code",
      "metadata": {
        "id": "c8UXCmkMGMp6"
      },
      "source": [
        "import numpy as np\n",
        "import torch\n",
        "torch.set_printoptions(edgeitems=2, precision=2, linewidth=75)"
      ],
      "execution_count": 12,
      "outputs": []
    },
    {
      "cell_type": "code",
      "metadata": {
        "id": "JUh3v1_wGMp8",
        "outputId": "112e956b-6ec1-40db-88b8-f49dd0ec8a48",
        "colab": {
          "base_uri": "https://localhost:8080/"
        }
      },
      "source": [
        "import csv\n",
        "wine_path = \"dlwpt-code/data/p1ch4/tabular-wine/winequality-white.csv\"\n",
        "wineq_numpy = np.loadtxt(wine_path, dtype=np.float32, delimiter=\";\",\n",
        "                         skiprows=1)\n",
        "wineq_numpy"
      ],
      "execution_count": 13,
      "outputs": [
        {
          "output_type": "execute_result",
          "data": {
            "text/plain": [
              "array([[ 7.  ,  0.27,  0.36, ...,  0.45,  8.8 ,  6.  ],\n",
              "       [ 6.3 ,  0.3 ,  0.34, ...,  0.49,  9.5 ,  6.  ],\n",
              "       [ 8.1 ,  0.28,  0.4 , ...,  0.44, 10.1 ,  6.  ],\n",
              "       ...,\n",
              "       [ 6.5 ,  0.24,  0.19, ...,  0.46,  9.4 ,  6.  ],\n",
              "       [ 5.5 ,  0.29,  0.3 , ...,  0.38, 12.8 ,  7.  ],\n",
              "       [ 6.  ,  0.21,  0.38, ...,  0.32, 11.8 ,  6.  ]], dtype=float32)"
            ]
          },
          "metadata": {
            "tags": []
          },
          "execution_count": 13
        }
      ]
    },
    {
      "cell_type": "code",
      "metadata": {
        "id": "GSf7E7xgGMp-",
        "outputId": "402cbca5-2f26-4e93-a775-0f790e2de5f1",
        "colab": {
          "base_uri": "https://localhost:8080/"
        }
      },
      "source": [
        "col_list = next(csv.reader(open(wine_path), delimiter=';'))\n",
        "\n",
        "wineq_numpy.shape, col_list"
      ],
      "execution_count": 14,
      "outputs": [
        {
          "output_type": "execute_result",
          "data": {
            "text/plain": [
              "((4898, 12),\n",
              " ['fixed acidity',\n",
              "  'volatile acidity',\n",
              "  'citric acid',\n",
              "  'residual sugar',\n",
              "  'chlorides',\n",
              "  'free sulfur dioxide',\n",
              "  'total sulfur dioxide',\n",
              "  'density',\n",
              "  'pH',\n",
              "  'sulphates',\n",
              "  'alcohol',\n",
              "  'quality'])"
            ]
          },
          "metadata": {
            "tags": []
          },
          "execution_count": 14
        }
      ]
    },
    {
      "cell_type": "code",
      "metadata": {
        "id": "0TJ3H2hlGMp-",
        "outputId": "fb13e267-abee-499d-9efd-548fe00d9728",
        "colab": {
          "base_uri": "https://localhost:8080/"
        }
      },
      "source": [
        "wineq = torch.from_numpy(wineq_numpy)\n",
        "\n",
        "wineq.shape, wineq.dtype"
      ],
      "execution_count": 15,
      "outputs": [
        {
          "output_type": "execute_result",
          "data": {
            "text/plain": [
              "(torch.Size([4898, 12]), torch.float32)"
            ]
          },
          "metadata": {
            "tags": []
          },
          "execution_count": 15
        }
      ]
    },
    {
      "cell_type": "code",
      "metadata": {
        "id": "zUChXrAVGMp_",
        "outputId": "6f984b89-7b7f-422f-e4b7-4fcac13740c0",
        "colab": {
          "base_uri": "https://localhost:8080/"
        }
      },
      "source": [
        "data = wineq[:, :-1] # <1>\n",
        "data, data.shape"
      ],
      "execution_count": 16,
      "outputs": [
        {
          "output_type": "execute_result",
          "data": {
            "text/plain": [
              "(tensor([[ 7.00,  0.27,  ...,  0.45,  8.80],\n",
              "         [ 6.30,  0.30,  ...,  0.49,  9.50],\n",
              "         ...,\n",
              "         [ 5.50,  0.29,  ...,  0.38, 12.80],\n",
              "         [ 6.00,  0.21,  ...,  0.32, 11.80]]), torch.Size([4898, 11]))"
            ]
          },
          "metadata": {
            "tags": []
          },
          "execution_count": 16
        }
      ]
    },
    {
      "cell_type": "code",
      "metadata": {
        "id": "7p_J8jMGGMp_",
        "outputId": "2f029bdd-8cbe-479c-c7af-a72e684b3a30",
        "colab": {
          "base_uri": "https://localhost:8080/"
        }
      },
      "source": [
        "target = wineq[:, -1] # <2>\n",
        "target, target.shape"
      ],
      "execution_count": 17,
      "outputs": [
        {
          "output_type": "execute_result",
          "data": {
            "text/plain": [
              "(tensor([6., 6.,  ..., 7., 6.]), torch.Size([4898]))"
            ]
          },
          "metadata": {
            "tags": []
          },
          "execution_count": 17
        }
      ]
    },
    {
      "cell_type": "code",
      "metadata": {
        "id": "3A4G0SoTGMqA",
        "outputId": "33100952-e512-4593-c045-10e2bb361640",
        "colab": {
          "base_uri": "https://localhost:8080/"
        }
      },
      "source": [
        "target = wineq[:, -1].long()\n",
        "target"
      ],
      "execution_count": 18,
      "outputs": [
        {
          "output_type": "execute_result",
          "data": {
            "text/plain": [
              "tensor([6, 6,  ..., 7, 6])"
            ]
          },
          "metadata": {
            "tags": []
          },
          "execution_count": 18
        }
      ]
    },
    {
      "cell_type": "code",
      "metadata": {
        "id": "FuluasaWGMqA",
        "outputId": "d3e166fa-88e3-4b7f-bd56-f0e1b9ebf6bc",
        "colab": {
          "base_uri": "https://localhost:8080/"
        }
      },
      "source": [
        "target_onehot = torch.zeros(target.shape[0], 10)\n",
        "\n",
        "target_onehot.scatter_(1, target.unsqueeze(1), 1.0)"
      ],
      "execution_count": 19,
      "outputs": [
        {
          "output_type": "execute_result",
          "data": {
            "text/plain": [
              "tensor([[0., 0.,  ..., 0., 0.],\n",
              "        [0., 0.,  ..., 0., 0.],\n",
              "        ...,\n",
              "        [0., 0.,  ..., 0., 0.],\n",
              "        [0., 0.,  ..., 0., 0.]])"
            ]
          },
          "metadata": {
            "tags": []
          },
          "execution_count": 19
        }
      ]
    },
    {
      "cell_type": "code",
      "metadata": {
        "id": "wS3CWGVgGMqB",
        "outputId": "aa2a0d20-8c75-4269-ab41-f89ae64b5c19",
        "colab": {
          "base_uri": "https://localhost:8080/"
        }
      },
      "source": [
        "target_unsqueezed = target.unsqueeze(1)\n",
        "target_unsqueezed"
      ],
      "execution_count": 20,
      "outputs": [
        {
          "output_type": "execute_result",
          "data": {
            "text/plain": [
              "tensor([[6],\n",
              "        [6],\n",
              "        ...,\n",
              "        [7],\n",
              "        [6]])"
            ]
          },
          "metadata": {
            "tags": []
          },
          "execution_count": 20
        }
      ]
    },
    {
      "cell_type": "code",
      "metadata": {
        "id": "JoOWuboTGMqB",
        "outputId": "c0f5f32f-c4f7-45b8-9812-97c0d884d186",
        "colab": {
          "base_uri": "https://localhost:8080/"
        }
      },
      "source": [
        "data_mean = torch.mean(data, dim=0)\n",
        "data_mean"
      ],
      "execution_count": 21,
      "outputs": [
        {
          "output_type": "execute_result",
          "data": {
            "text/plain": [
              "tensor([6.85e+00, 2.78e-01, 3.34e-01, 6.39e+00, 4.58e-02, 3.53e+01,\n",
              "        1.38e+02, 9.94e-01, 3.19e+00, 4.90e-01, 1.05e+01])"
            ]
          },
          "metadata": {
            "tags": []
          },
          "execution_count": 21
        }
      ]
    },
    {
      "cell_type": "code",
      "metadata": {
        "id": "n35fXkMGGMqB",
        "outputId": "2c24047b-0feb-4ef6-f0a8-ce4f01e7d014",
        "colab": {
          "base_uri": "https://localhost:8080/"
        }
      },
      "source": [
        "data_var = torch.var(data, dim=0)\n",
        "data_var"
      ],
      "execution_count": 22,
      "outputs": [
        {
          "output_type": "execute_result",
          "data": {
            "text/plain": [
              "tensor([7.12e-01, 1.02e-02, 1.46e-02, 2.57e+01, 4.77e-04, 2.89e+02,\n",
              "        1.81e+03, 8.95e-06, 2.28e-02, 1.30e-02, 1.51e+00])"
            ]
          },
          "metadata": {
            "tags": []
          },
          "execution_count": 22
        }
      ]
    },
    {
      "cell_type": "code",
      "metadata": {
        "id": "rqOkpZKMGMqC",
        "outputId": "fb30746b-b97b-4368-8258-620178c7c880",
        "colab": {
          "base_uri": "https://localhost:8080/"
        }
      },
      "source": [
        "data_normalized = (data - data_mean) / torch.sqrt(data_var)\n",
        "data_normalized"
      ],
      "execution_count": 23,
      "outputs": [
        {
          "output_type": "execute_result",
          "data": {
            "text/plain": [
              "tensor([[ 1.72e-01, -8.18e-02,  ..., -3.49e-01, -1.39e+00],\n",
              "        [-6.57e-01,  2.16e-01,  ...,  1.34e-03, -8.24e-01],\n",
              "        ...,\n",
              "        [-1.61e+00,  1.17e-01,  ..., -9.63e-01,  1.86e+00],\n",
              "        [-1.01e+00, -6.77e-01,  ..., -1.49e+00,  1.04e+00]])"
            ]
          },
          "metadata": {
            "tags": []
          },
          "execution_count": 23
        }
      ]
    },
    {
      "cell_type": "code",
      "metadata": {
        "id": "XaKOE7quGMqC",
        "outputId": "961770cd-fd2d-40bb-8ba4-ced16975e6b6",
        "colab": {
          "base_uri": "https://localhost:8080/"
        }
      },
      "source": [
        "bad_indexes = target <= 3 # <1>\n",
        "bad_indexes.shape, bad_indexes.dtype, bad_indexes.sum()"
      ],
      "execution_count": 24,
      "outputs": [
        {
          "output_type": "execute_result",
          "data": {
            "text/plain": [
              "(torch.Size([4898]), torch.bool, tensor(20))"
            ]
          },
          "metadata": {
            "tags": []
          },
          "execution_count": 24
        }
      ]
    },
    {
      "cell_type": "code",
      "metadata": {
        "id": "h6BPxGTZGMqC",
        "outputId": "adb09c34-1b03-4837-ddb7-a0083baa71d3",
        "colab": {
          "base_uri": "https://localhost:8080/"
        }
      },
      "source": [
        "bad_data = data[bad_indexes]\n",
        "bad_data.shape"
      ],
      "execution_count": 25,
      "outputs": [
        {
          "output_type": "execute_result",
          "data": {
            "text/plain": [
              "torch.Size([20, 11])"
            ]
          },
          "metadata": {
            "tags": []
          },
          "execution_count": 25
        }
      ]
    },
    {
      "cell_type": "code",
      "metadata": {
        "id": "sDekbZFFGMqD",
        "outputId": "7668ccef-c615-47df-ba5e-cfd5f2b44c66",
        "colab": {
          "base_uri": "https://localhost:8080/"
        }
      },
      "source": [
        "bad_data = data[target <= 3]\n",
        "mid_data = data[(target > 3) & (target < 7)] # <1>\n",
        "good_data = data[target >= 7]\n",
        "\n",
        "bad_mean = torch.mean(bad_data, dim=0)\n",
        "mid_mean = torch.mean(mid_data, dim=0)\n",
        "good_mean = torch.mean(good_data, dim=0)\n",
        "\n",
        "for i, args in enumerate(zip(col_list, bad_mean, mid_mean, good_mean)):\n",
        "    print('{:2} {:20} {:6.2f} {:6.2f} {:6.2f}'.format(i, *args))"
      ],
      "execution_count": 26,
      "outputs": [
        {
          "output_type": "stream",
          "text": [
            " 0 fixed acidity          7.60   6.89   6.73\n",
            " 1 volatile acidity       0.33   0.28   0.27\n",
            " 2 citric acid            0.34   0.34   0.33\n",
            " 3 residual sugar         6.39   6.71   5.26\n",
            " 4 chlorides              0.05   0.05   0.04\n",
            " 5 free sulfur dioxide   53.33  35.42  34.55\n",
            " 6 total sulfur dioxide 170.60 141.83 125.25\n",
            " 7 density                0.99   0.99   0.99\n",
            " 8 pH                     3.19   3.18   3.22\n",
            " 9 sulphates              0.47   0.49   0.50\n",
            "10 alcohol               10.34  10.26  11.42\n"
          ],
          "name": "stdout"
        }
      ]
    },
    {
      "cell_type": "code",
      "metadata": {
        "id": "XCiRNOPCGMqD",
        "outputId": "9cd8401a-b8f6-4a7b-9ea3-b8af770fb1cd",
        "colab": {
          "base_uri": "https://localhost:8080/"
        }
      },
      "source": [
        "total_sulfur_threshold = 141.83\n",
        "total_sulfur_data = data[:,6]\n",
        "predicted_indexes = torch.lt(total_sulfur_data, total_sulfur_threshold)\n",
        "\n",
        "predicted_indexes.shape, predicted_indexes.dtype, predicted_indexes.sum()"
      ],
      "execution_count": 27,
      "outputs": [
        {
          "output_type": "execute_result",
          "data": {
            "text/plain": [
              "(torch.Size([4898]), torch.bool, tensor(2727))"
            ]
          },
          "metadata": {
            "tags": []
          },
          "execution_count": 27
        }
      ]
    },
    {
      "cell_type": "code",
      "metadata": {
        "id": "bXph5m7BGMqE",
        "outputId": "5294a5a4-7d75-4bba-bd2f-d8224dff048a",
        "colab": {
          "base_uri": "https://localhost:8080/"
        }
      },
      "source": [
        "actual_indexes = target > 5\n",
        "\n",
        "actual_indexes.shape, actual_indexes.dtype, actual_indexes.sum()"
      ],
      "execution_count": 28,
      "outputs": [
        {
          "output_type": "execute_result",
          "data": {
            "text/plain": [
              "(torch.Size([4898]), torch.bool, tensor(3258))"
            ]
          },
          "metadata": {
            "tags": []
          },
          "execution_count": 28
        }
      ]
    },
    {
      "cell_type": "code",
      "metadata": {
        "id": "AiAcvz4RGMqE",
        "outputId": "979c36a9-958c-4853-c2d6-7d6657bb2957",
        "colab": {
          "base_uri": "https://localhost:8080/"
        }
      },
      "source": [
        "n_matches = torch.sum(actual_indexes & predicted_indexes).item()\n",
        "n_predicted = torch.sum(predicted_indexes).item()\n",
        "n_actual = torch.sum(actual_indexes).item()\n",
        "\n",
        "n_matches, n_matches / n_predicted, n_matches / n_actual"
      ],
      "execution_count": 29,
      "outputs": [
        {
          "output_type": "execute_result",
          "data": {
            "text/plain": [
              "(2018, 0.74000733406674, 0.6193984039287906)"
            ]
          },
          "metadata": {
            "tags": []
          },
          "execution_count": 29
        }
      ]
    }
  ]
}